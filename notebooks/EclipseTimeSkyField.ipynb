{
 "cells": [
  {
   "cell_type": "code",
   "execution_count": 5,
   "metadata": {
    "collapsed": true
   },
   "outputs": [],
   "source": [
    "import matplotlib as mpl\n",
    "import matplotlib.pyplot as plt\n",
    "from datetime import datetime\n",
    "%matplotlib inline"
   ]
  },
  {
   "cell_type": "code",
   "execution_count": 2,
   "metadata": {
    "collapsed": true
   },
   "outputs": [],
   "source": [
    "import astropy.units as u\n",
    "from astropy.coordinates import SkyCoord, EarthLocation, AltAz\n",
    "from sunpy.coordinates import get_body_heliographic_stonyhurst"
   ]
  },
  {
   "cell_type": "code",
   "execution_count": 3,
   "metadata": {
    "collapsed": true
   },
   "outputs": [],
   "source": [
    "gps = [44.37197, -116.87393] * u.deg"
   ]
  },
  {
   "cell_type": "code",
   "execution_count": 6,
   "metadata": {
    "collapsed": false
   },
   "outputs": [],
   "source": [
    "time = datetime(2017, 8, 21, 17, 25, 0)"
   ]
  },
  {
   "cell_type": "code",
   "execution_count": 7,
   "metadata": {
    "collapsed": true
   },
   "outputs": [],
   "source": [
    "loc = EarthLocation(lat=gps[0], lon=gps[1])\n",
    "location_frame = AltAz(obstime=time, location=loc)"
   ]
  },
  {
   "cell_type": "code",
   "execution_count": 8,
   "metadata": {
    "collapsed": true
   },
   "outputs": [],
   "source": [
    "sun = get_body_heliographic_stonyhurst('sun', time).transform_to(location_frame)\n",
    "moon = get_body_heliographic_stonyhurst('moon', time).transform_to(location_frame)"
   ]
  },
  {
   "cell_type": "markdown",
   "metadata": {},
   "source": [
    "Let's check that the Sun and the moon are at the same location in the sky, also referred to as eclipsing!"
   ]
  },
  {
   "cell_type": "code",
   "execution_count": 13,
   "metadata": {
    "collapsed": false
   },
   "outputs": [
    {
     "name": "stdout",
     "output_type": "stream",
     "text": [
      "Sun is at 124.83065443897897 deg az 44.99775166702356 deg alt\n"
     ]
    }
   ],
   "source": [
    "print(\"The Sun is at {0} az {1} alt\".format(sun.az, sun.alt))"
   ]
  },
  {
   "cell_type": "code",
   "execution_count": 14,
   "metadata": {
    "collapsed": false
   },
   "outputs": [
    {
     "name": "stdout",
     "output_type": "stream",
     "text": [
      "The Moon is at 124.83755196307085 deg az 45.00650673581138 deg alt\n"
     ]
    }
   ],
   "source": [
    "print(\"The Moon is at {0} az {1} alt\".format(moon.az, moon.alt))"
   ]
  },
  {
   "cell_type": "markdown",
   "metadata": {},
   "source": [
    "Yes they are! Now let's get the location of some other objects that will be around at the time. The information on the location of regulus in the sky is from it's wikipedia page"
   ]
  },
  {
   "cell_type": "code",
   "execution_count": 15,
   "metadata": {
    "collapsed": true
   },
   "outputs": [],
   "source": [
    "regulus = SkyCoord(ra='10h08m22.311s', dec='11d58m01.95s', frame='icrs').transform_to(location_frame)\n",
    "mercury = get_body_heliographic_stonyhurst('mercury', time).transform_to(location_frame)\n",
    "mars = get_body_heliographic_stonyhurst('mars', time).transform_to(location_frame)"
   ]
  },
  {
   "cell_type": "code",
   "execution_count": 17,
   "metadata": {
    "collapsed": false
   },
   "outputs": [
    {
     "data": {
      "image/png": "[encoded data removed]",
      "text/plain": [
       "<matplotlib.figure.Figure at 0x1161a24a8>"
      ]
     },
     "metadata": {},
     "output_type": "display_data"
    }
   ],
   "source": [
    "plt.figure(figsize=(10,10))\n",
    "plt.plot(sun.az, sun.alt, 'o', color='yellow', label='Sun');\n",
    "plt.plot(moon.az, moon.alt, 'o', color='black', label='Moon');\n",
    "\n",
    "plt.plot(regulus.az, regulus.alt, '.', color='green', label='Regulus');\n",
    "plt.plot(mercury.az, mercury.alt, '.', color='blue', label='Mercury');\n",
    "plt.plot(mars.az, mars.alt, '.', color='red', label='Mars');\n",
    "\n",
    "plt.title(str(time) + ' UT');\n",
    "plt.xlabel('Azimuth (deg)');\n",
    "plt.ylabel('Elevation (deg)');\n",
    "plt.legend(loc=4);\n",
    "\n",
    "plt.show()"
   ]
  },
  {
   "cell_type": "code",
   "execution_count": null,
   "metadata": {
    "collapsed": true
   },
   "outputs": [],
   "source": []
  }
 ],
 "metadata": {
  "kernelspec": {
   "display_name": "Python [conda root]",
   "language": "python",
   "name": "conda-root-py"
  },
  "language_info": {
   "codemirror_mode": {
    "name": "ipython",
    "version": 3
   },
   "file_extension": ".py",
   "mimetype": "text/x-python",
   "name": "python",
   "nbconvert_exporter": "python",
   "pygments_lexer": "ipython3",
   "version": "3.5.2"
  }
 },
 "nbformat": 4,
 "nbformat_minor": 2
}
